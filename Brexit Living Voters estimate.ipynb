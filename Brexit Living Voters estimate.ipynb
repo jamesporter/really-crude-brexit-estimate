{
 "cells": [
  {
   "cell_type": "markdown",
   "metadata": {},
   "source": [
    "## Data"
   ]
  },
  {
   "cell_type": "code",
   "execution_count": 58,
   "metadata": {
    "collapsed": false
   },
   "outputs": [
    {
     "data": {
      "text/plain": [
       "([0.64, 0.65, 0.66, 0.74, 0.9],\n",
       " [0.29, 0.46, 0.46, 0.6, 0.64],\n",
       " [7000000, 12000000, 12000000, 10000000, 10000000],\n",
       " [17400000.0, 16100000.000000002],\n",
       " [0.0003333333333333333, 0.0005, 0.002, 0.007692307692307693, 0.025])"
      ]
     },
     "execution_count": 58,
     "metadata": {},
     "output_type": "execute_result"
    }
   ],
   "source": [
    "def millionify(lst):\n",
    "    return list(map(lambda n: n * 1000000, lst))\n",
    "\n",
    "turnout = [0.64, 0.65, 0.66, 0.74, 0.9]\n",
    "support = [0.29, 0.46, 0.46, 0.6, 0.64] #brexit \n",
    "demographics = millionify([7,12,12,10,10])\n",
    "result = millionify([17.4, 16.1])\n",
    "mortality = list(map(lambda c: 1/c, [3000, 2000, 500, 130, 40]))\n",
    "\n",
    "turnout, support, demographics, result, mortality"
   ]
  },
  {
   "cell_type": "code",
   "execution_count": 59,
   "metadata": {
    "collapsed": true
   },
   "outputs": [],
   "source": [
    "import pandas as pd"
   ]
  },
  {
   "cell_type": "code",
   "execution_count": 60,
   "metadata": {
    "collapsed": true
   },
   "outputs": [],
   "source": [
    "keys = [\"turnout\", \"support\", \"demographics\", \"mortality\"]\n",
    "raw = [turnout, support, demographics, mortality]"
   ]
  },
  {
   "cell_type": "code",
   "execution_count": null,
   "metadata": {
    "collapsed": false
   },
   "outputs": [],
   "source": []
  },
  {
   "cell_type": "code",
   "execution_count": 61,
   "metadata": {
    "collapsed": false
   },
   "outputs": [
    {
     "data": {
      "text/html": [
       "<div>\n",
       "<table border=\"1\" class=\"dataframe\">\n",
       "  <thead>\n",
       "    <tr style=\"text-align: right;\">\n",
       "      <th></th>\n",
       "      <th>demographics</th>\n",
       "      <th>mortality</th>\n",
       "      <th>support</th>\n",
       "      <th>turnout</th>\n",
       "    </tr>\n",
       "  </thead>\n",
       "  <tbody>\n",
       "    <tr>\n",
       "      <th>0</th>\n",
       "      <td>7000000</td>\n",
       "      <td>0.000333</td>\n",
       "      <td>0.29</td>\n",
       "      <td>0.64</td>\n",
       "    </tr>\n",
       "    <tr>\n",
       "      <th>1</th>\n",
       "      <td>12000000</td>\n",
       "      <td>0.000500</td>\n",
       "      <td>0.46</td>\n",
       "      <td>0.65</td>\n",
       "    </tr>\n",
       "    <tr>\n",
       "      <th>2</th>\n",
       "      <td>12000000</td>\n",
       "      <td>0.002000</td>\n",
       "      <td>0.46</td>\n",
       "      <td>0.66</td>\n",
       "    </tr>\n",
       "    <tr>\n",
       "      <th>3</th>\n",
       "      <td>10000000</td>\n",
       "      <td>0.007692</td>\n",
       "      <td>0.60</td>\n",
       "      <td>0.74</td>\n",
       "    </tr>\n",
       "    <tr>\n",
       "      <th>4</th>\n",
       "      <td>10000000</td>\n",
       "      <td>0.025000</td>\n",
       "      <td>0.64</td>\n",
       "      <td>0.90</td>\n",
       "    </tr>\n",
       "  </tbody>\n",
       "</table>\n",
       "</div>"
      ],
      "text/plain": [
       "   demographics  mortality  support  turnout\n",
       "0       7000000   0.000333     0.29     0.64\n",
       "1      12000000   0.000500     0.46     0.65\n",
       "2      12000000   0.002000     0.46     0.66\n",
       "3      10000000   0.007692     0.60     0.74\n",
       "4      10000000   0.025000     0.64     0.90"
      ]
     },
     "execution_count": 61,
     "metadata": {},
     "output_type": "execute_result"
    }
   ],
   "source": [
    "d = []\n",
    "for i in range(5):\n",
    "    vals = {}\n",
    "    for k,r in zip(keys, raw):\n",
    "        vals[k] = r[i]\n",
    "    d.append(vals)\n",
    "\n",
    "data = pd.DataFrame(d)\n",
    "data\n",
    "        "
   ]
  },
  {
   "cell_type": "code",
   "execution_count": 62,
   "metadata": {
    "collapsed": false
   },
   "outputs": [
    {
     "data": {
      "text/plain": [
       "18730400.0"
      ]
     },
     "execution_count": 62,
     "metadata": {},
     "output_type": "execute_result"
    }
   ],
   "source": [
    "brexit_vote = (data.demographics * data.turnout * data.support).sum()\n",
    "brexit_vote"
   ]
  },
  {
   "cell_type": "markdown",
   "metadata": {},
   "source": [
    "Only off by about 1.5M... given how rough some of these numbers are that's pretty impressive..."
   ]
  },
  {
   "cell_type": "code",
   "execution_count": 63,
   "metadata": {
    "collapsed": false
   },
   "outputs": [
    {
     "data": {
      "text/plain": [
       "17869600.0"
      ]
     },
     "execution_count": 63,
     "metadata": {},
     "output_type": "execute_result"
    }
   ],
   "source": [
    "remain_vote = (data.demographics * data.turnout * (1 - data.support)).sum()\n",
    "remain_vote"
   ]
  },
  {
   "cell_type": "code",
   "execution_count": null,
   "metadata": {
    "collapsed": true
   },
   "outputs": [],
   "source": []
  },
  {
   "cell_type": "code",
   "execution_count": 64,
   "metadata": {
    "collapsed": false
   },
   "outputs": [
    {
     "data": {
      "text/plain": [
       "(0.48824043715846993, 0.51175956284153)"
      ]
     },
     "execution_count": 64,
     "metadata": {},
     "output_type": "execute_result"
    }
   ],
   "source": [
    "remain_vote / (brexit_vote + remain_vote), brexit_vote / (brexit_vote + remain_vote)"
   ]
  },
  {
   "cell_type": "markdown",
   "metadata": {},
   "source": [
    "Again this is pretty close to real result... could massage a bit but given huge data limitations probably not worth it?"
   ]
  },
  {
   "cell_type": "code",
   "execution_count": null,
   "metadata": {
    "collapsed": true
   },
   "outputs": [],
   "source": []
  },
  {
   "cell_type": "markdown",
   "metadata": {},
   "source": [
    "Now we start killing people"
   ]
  },
  {
   "cell_type": "code",
   "execution_count": 65,
   "metadata": {
    "collapsed": true
   },
   "outputs": [],
   "source": [
    "y = 2016\n",
    "\n",
    "def advance_by_one_year():\n",
    "    \"\"\"Functional programmer James is ashamed of this code...\"\"\"\n",
    "    data.demographics = (data.demographics * (1 - data.mortality)).map(int)\n",
    "    return y + 1"
   ]
  },
  {
   "cell_type": "markdown",
   "metadata": {},
   "source": [
    "Something very odd going on with iPython wouldn't let me year += 1 in this function; I know that is messy but should be valid?"
   ]
  },
  {
   "cell_type": "code",
   "execution_count": 66,
   "metadata": {
    "collapsed": false
   },
   "outputs": [
    {
     "data": {
      "text/plain": [
       "(2016,    demographics  mortality  support  turnout\n",
       " 0       7000000   0.000333     0.29     0.64\n",
       " 1      12000000   0.000500     0.46     0.65\n",
       " 2      12000000   0.002000     0.46     0.66\n",
       " 3      10000000   0.007692     0.60     0.74\n",
       " 4      10000000   0.025000     0.64     0.90)"
      ]
     },
     "execution_count": 66,
     "metadata": {},
     "output_type": "execute_result"
    }
   ],
   "source": [
    "y, data"
   ]
  },
  {
   "cell_type": "code",
   "execution_count": null,
   "metadata": {
    "collapsed": false
   },
   "outputs": [],
   "source": []
  },
  {
   "cell_type": "code",
   "execution_count": 68,
   "metadata": {
    "collapsed": false
   },
   "outputs": [],
   "source": [
    "def vote_info():\n",
    "    brexit_vote = (data.demographics * data.turnout * data.support).sum()\n",
    "    remain_vote = (data.demographics * data.turnout * (1 - data.support)).sum()\n",
    "    remain_pct = remain_vote / (brexit_vote + remain_vote)\n",
    "    brexit_pct = brexit_vote / (brexit_vote + remain_vote)    \n",
    "    return { \"brexit\": brexit_vote, \"remain\": remain_vote, \"brexit_pct\": brexit_pct, \"remain_pct\": remain_pct, \"year\": y} \n",
    "    "
   ]
  },
  {
   "cell_type": "code",
   "execution_count": 69,
   "metadata": {
    "collapsed": false
   },
   "outputs": [
    {
     "data": {
      "text/plain": [
       "{'brexit': 18730400.0,\n",
       " 'brexit_pct': 0.51175956284153,\n",
       " 'remain': 17869600.0,\n",
       " 'remain_pct': 0.48824043715846993,\n",
       " 'year': 2016}"
      ]
     },
     "execution_count": 69,
     "metadata": {},
     "output_type": "execute_result"
    }
   ],
   "source": [
    "vote_info()"
   ]
  },
  {
   "cell_type": "code",
   "execution_count": 70,
   "metadata": {
    "collapsed": false
   },
   "outputs": [],
   "source": [
    "history = []\n",
    "\n",
    "for i in range(20):\n",
    "    history.append(vote_info())\n",
    "    y = advance_by_one_year()"
   ]
  },
  {
   "cell_type": "code",
   "execution_count": 72,
   "metadata": {
    "collapsed": false
   },
   "outputs": [
    {
     "data": {
      "text/html": [
       "<div>\n",
       "<table border=\"1\" class=\"dataframe\">\n",
       "  <thead>\n",
       "    <tr style=\"text-align: right;\">\n",
       "      <th></th>\n",
       "      <th>brexit</th>\n",
       "      <th>brexit_pct</th>\n",
       "      <th>remain</th>\n",
       "      <th>remain_pct</th>\n",
       "      <th>year</th>\n",
       "    </tr>\n",
       "  </thead>\n",
       "  <tbody>\n",
       "    <tr>\n",
       "      <th>0</th>\n",
       "      <td>1.873040e+07</td>\n",
       "      <td>0.511760</td>\n",
       "      <td>1.786960e+07</td>\n",
       "      <td>0.488240</td>\n",
       "      <td>2016</td>\n",
       "    </tr>\n",
       "    <tr>\n",
       "      <th>1</th>\n",
       "      <td>1.854273e+07</td>\n",
       "      <td>0.510864</td>\n",
       "      <td>1.775411e+07</td>\n",
       "      <td>0.489136</td>\n",
       "      <td>2017</td>\n",
       "    </tr>\n",
       "    <tr>\n",
       "      <th>2</th>\n",
       "      <td>1.835894e+07</td>\n",
       "      <td>0.509974</td>\n",
       "      <td>1.764084e+07</td>\n",
       "      <td>0.490026</td>\n",
       "      <td>2018</td>\n",
       "    </tr>\n",
       "    <tr>\n",
       "      <th>3</th>\n",
       "      <td>1.817894e+07</td>\n",
       "      <td>0.509090</td>\n",
       "      <td>1.752973e+07</td>\n",
       "      <td>0.490910</td>\n",
       "      <td>2019</td>\n",
       "    </tr>\n",
       "    <tr>\n",
       "      <th>4</th>\n",
       "      <td>1.800263e+07</td>\n",
       "      <td>0.508213</td>\n",
       "      <td>1.742075e+07</td>\n",
       "      <td>0.491787</td>\n",
       "      <td>2020</td>\n",
       "    </tr>\n",
       "    <tr>\n",
       "      <th>5</th>\n",
       "      <td>1.782993e+07</td>\n",
       "      <td>0.507343</td>\n",
       "      <td>1.731382e+07</td>\n",
       "      <td>0.492657</td>\n",
       "      <td>2021</td>\n",
       "    </tr>\n",
       "    <tr>\n",
       "      <th>6</th>\n",
       "      <td>1.766076e+07</td>\n",
       "      <td>0.506479</td>\n",
       "      <td>1.720892e+07</td>\n",
       "      <td>0.493521</td>\n",
       "      <td>2022</td>\n",
       "    </tr>\n",
       "    <tr>\n",
       "      <th>7</th>\n",
       "      <td>1.749502e+07</td>\n",
       "      <td>0.505622</td>\n",
       "      <td>1.710599e+07</td>\n",
       "      <td>0.494378</td>\n",
       "      <td>2023</td>\n",
       "    </tr>\n",
       "    <tr>\n",
       "      <th>8</th>\n",
       "      <td>1.733265e+07</td>\n",
       "      <td>0.504771</td>\n",
       "      <td>1.700498e+07</td>\n",
       "      <td>0.495229</td>\n",
       "      <td>2024</td>\n",
       "    </tr>\n",
       "    <tr>\n",
       "      <th>9</th>\n",
       "      <td>1.717355e+07</td>\n",
       "      <td>0.503928</td>\n",
       "      <td>1.690585e+07</td>\n",
       "      <td>0.496072</td>\n",
       "      <td>2025</td>\n",
       "    </tr>\n",
       "    <tr>\n",
       "      <th>10</th>\n",
       "      <td>1.701766e+07</td>\n",
       "      <td>0.503091</td>\n",
       "      <td>1.680856e+07</td>\n",
       "      <td>0.496909</td>\n",
       "      <td>2026</td>\n",
       "    </tr>\n",
       "    <tr>\n",
       "      <th>11</th>\n",
       "      <td>1.686489e+07</td>\n",
       "      <td>0.502261</td>\n",
       "      <td>1.671306e+07</td>\n",
       "      <td>0.497739</td>\n",
       "      <td>2027</td>\n",
       "    </tr>\n",
       "    <tr>\n",
       "      <th>12</th>\n",
       "      <td>1.671518e+07</td>\n",
       "      <td>0.501438</td>\n",
       "      <td>1.661932e+07</td>\n",
       "      <td>0.498562</td>\n",
       "      <td>2028</td>\n",
       "    </tr>\n",
       "    <tr>\n",
       "      <th>13</th>\n",
       "      <td>1.656845e+07</td>\n",
       "      <td>0.500622</td>\n",
       "      <td>1.652728e+07</td>\n",
       "      <td>0.499378</td>\n",
       "      <td>2029</td>\n",
       "    </tr>\n",
       "    <tr>\n",
       "      <th>14</th>\n",
       "      <td>1.642463e+07</td>\n",
       "      <td>0.499813</td>\n",
       "      <td>1.643692e+07</td>\n",
       "      <td>0.500187</td>\n",
       "      <td>2030</td>\n",
       "    </tr>\n",
       "    <tr>\n",
       "      <th>15</th>\n",
       "      <td>1.628365e+07</td>\n",
       "      <td>0.499011</td>\n",
       "      <td>1.634820e+07</td>\n",
       "      <td>0.500989</td>\n",
       "      <td>2031</td>\n",
       "    </tr>\n",
       "    <tr>\n",
       "      <th>16</th>\n",
       "      <td>1.614545e+07</td>\n",
       "      <td>0.498216</td>\n",
       "      <td>1.626106e+07</td>\n",
       "      <td>0.501784</td>\n",
       "      <td>2032</td>\n",
       "    </tr>\n",
       "    <tr>\n",
       "      <th>17</th>\n",
       "      <td>1.600996e+07</td>\n",
       "      <td>0.497428</td>\n",
       "      <td>1.617549e+07</td>\n",
       "      <td>0.502572</td>\n",
       "      <td>2033</td>\n",
       "    </tr>\n",
       "    <tr>\n",
       "      <th>18</th>\n",
       "      <td>1.587712e+07</td>\n",
       "      <td>0.496648</td>\n",
       "      <td>1.609144e+07</td>\n",
       "      <td>0.503352</td>\n",
       "      <td>2034</td>\n",
       "    </tr>\n",
       "    <tr>\n",
       "      <th>19</th>\n",
       "      <td>1.574687e+07</td>\n",
       "      <td>0.495874</td>\n",
       "      <td>1.600888e+07</td>\n",
       "      <td>0.504126</td>\n",
       "      <td>2035</td>\n",
       "    </tr>\n",
       "  </tbody>\n",
       "</table>\n",
       "</div>"
      ],
      "text/plain": [
       "          brexit  brexit_pct        remain  remain_pct  year\n",
       "0   1.873040e+07    0.511760  1.786960e+07    0.488240  2016\n",
       "1   1.854273e+07    0.510864  1.775411e+07    0.489136  2017\n",
       "2   1.835894e+07    0.509974  1.764084e+07    0.490026  2018\n",
       "3   1.817894e+07    0.509090  1.752973e+07    0.490910  2019\n",
       "4   1.800263e+07    0.508213  1.742075e+07    0.491787  2020\n",
       "5   1.782993e+07    0.507343  1.731382e+07    0.492657  2021\n",
       "6   1.766076e+07    0.506479  1.720892e+07    0.493521  2022\n",
       "7   1.749502e+07    0.505622  1.710599e+07    0.494378  2023\n",
       "8   1.733265e+07    0.504771  1.700498e+07    0.495229  2024\n",
       "9   1.717355e+07    0.503928  1.690585e+07    0.496072  2025\n",
       "10  1.701766e+07    0.503091  1.680856e+07    0.496909  2026\n",
       "11  1.686489e+07    0.502261  1.671306e+07    0.497739  2027\n",
       "12  1.671518e+07    0.501438  1.661932e+07    0.498562  2028\n",
       "13  1.656845e+07    0.500622  1.652728e+07    0.499378  2029\n",
       "14  1.642463e+07    0.499813  1.643692e+07    0.500187  2030\n",
       "15  1.628365e+07    0.499011  1.634820e+07    0.500989  2031\n",
       "16  1.614545e+07    0.498216  1.626106e+07    0.501784  2032\n",
       "17  1.600996e+07    0.497428  1.617549e+07    0.502572  2033\n",
       "18  1.587712e+07    0.496648  1.609144e+07    0.503352  2034\n",
       "19  1.574687e+07    0.495874  1.600888e+07    0.504126  2035"
      ]
     },
     "execution_count": 72,
     "metadata": {},
     "output_type": "execute_result"
    }
   ],
   "source": [
    "pd.DataFrame(history)"
   ]
  },
  {
   "cell_type": "code",
   "execution_count": null,
   "metadata": {
    "collapsed": true
   },
   "outputs": [],
   "source": []
  }
 ],
 "metadata": {
  "kernelspec": {
   "display_name": "Python 3",
   "language": "python",
   "name": "python3"
  },
  "language_info": {
   "codemirror_mode": {
    "name": "ipython",
    "version": 3
   },
   "file_extension": ".py",
   "mimetype": "text/x-python",
   "name": "python",
   "nbconvert_exporter": "python",
   "pygments_lexer": "ipython3",
   "version": "3.6.0"
  }
 },
 "nbformat": 4,
 "nbformat_minor": 2
}
